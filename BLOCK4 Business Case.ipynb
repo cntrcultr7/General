{
 "cells": [
  {
   "cell_type": "markdown",
   "metadata": {},
   "source": [
    "# Problem Statement\n",
    "\n",
    "Recent complaints of late orders by customers has raised concern of courier punctuality, compliance and productuvity.\n",
    "\n",
    "**Objective:** Evaluate and quantify the prevalence of the problem."
   ]
  },
  {
   "cell_type": "markdown",
   "metadata": {},
   "source": [
    "**LINK TO SLIDE PRESENTATION:** https://drive.google.com/file/d/1PUuD9m_xDV92olhrZBOb91fndXeQ4NXf/view?usp=sharing"
   ]
  },
  {
   "cell_type": "markdown",
   "metadata": {},
   "source": [
    "### KPI DEFINITIONS:\n",
    "\n",
    "1. **Order Completion Rate**<br>\n",
    "Order Completion Rate measures general effectiveness in satisfying client order requests by looking at the percentage of all orders that were delivered successfully in a given day.\n",
    "\n",
    "$$\\frac{total\\ orders\\ delivered}{total\\ orders}$$\n",
    "2. **On-Time Delivery Adherence**<br>\n",
    "OTDA refers to the percentage of orders that were delivered within the scheduled timeframe. A critical metric that underpins Paacks commitment to customer controlled timeslots for deliveries.\n",
    "\n",
    "$$\\frac{total\\ orders\\ on\\ time}{total\\ orders}$$<br>\n",
    "$$ (total\\ orders\\ on\\ time = total\\ orders\\ delivered - total\\ late\\ orders) $$\n",
    "3. **Driver On-Time Efficiency**<br>\n",
    "How efficiently is the front-line operating? This metric aims to parse at the performance of the front-line unit by understanding if efficiency is a systemic or localized (per courier) issue. It is summarized by the percent of drivers who had at least one late order during the day.\n",
    "\n",
    "$$\\frac{number\\ of\\ drivers\\ with\\ at\\ least\\ one\\ late\\ order}{total\\ number\\ of\\ drivers}$$\n",
    "4. **Average Productivity**<br>\n",
    "Another efficiency metric to understand the current capacity of each front-line driver and performance to capacity targets. It is the average number of orders attempted per hour.\n",
    "\n",
    "$$AVG(\\sum_{}\\frac{number\\ of\\ orders\\ attempted}{total\\ hours}\\ per\\ driver)$$"
   ]
  },
  {
   "cell_type": "markdown",
   "metadata": {},
   "source": [
    "#### Import & Clean Dataset"
   ]
  },
  {
   "cell_type": "code",
   "execution_count": 1,
   "metadata": {},
   "outputs": [],
   "source": [
    "import pandas as pd\n",
    "import numpy as np"
   ]
  },
  {
   "cell_type": "code",
   "execution_count": 2,
   "metadata": {},
   "outputs": [
    {
     "name": "stdout",
     "output_type": "stream",
     "text": [
      "(100, 10)\n"
     ]
    },
    {
     "data": {
      "text/html": [
       "<div>\n",
       "<style scoped>\n",
       "    .dataframe tbody tr th:only-of-type {\n",
       "        vertical-align: middle;\n",
       "    }\n",
       "\n",
       "    .dataframe tbody tr th {\n",
       "        vertical-align: top;\n",
       "    }\n",
       "\n",
       "    .dataframe thead th {\n",
       "        text-align: right;\n",
       "    }\n",
       "</style>\n",
       "<table border=\"1\" class=\"dataframe\">\n",
       "  <thead>\n",
       "    <tr style=\"text-align: right;\">\n",
       "      <th></th>\n",
       "      <th>driver</th>\n",
       "      <th>parcels delivered</th>\n",
       "      <th>orders delivered</th>\n",
       "      <th>orders failed</th>\n",
       "      <th>orders attempted</th>\n",
       "      <th>orders to deliver</th>\n",
       "      <th>orders delayed</th>\n",
       "      <th>orders early</th>\n",
       "      <th>start time</th>\n",
       "      <th>end time (last delivery attempt)</th>\n",
       "    </tr>\n",
       "  </thead>\n",
       "  <tbody>\n",
       "    <tr>\n",
       "      <th>0</th>\n",
       "      <td>Adolph Nottingham</td>\n",
       "      <td>77</td>\n",
       "      <td>71</td>\n",
       "      <td>0</td>\n",
       "      <td>71</td>\n",
       "      <td>0</td>\n",
       "      <td>0</td>\n",
       "      <td>0</td>\n",
       "      <td>11:21:58</td>\n",
       "      <td>16:27:01</td>\n",
       "    </tr>\n",
       "    <tr>\n",
       "      <th>1</th>\n",
       "      <td>Agnes Simmons</td>\n",
       "      <td>4</td>\n",
       "      <td>1</td>\n",
       "      <td>0</td>\n",
       "      <td>1</td>\n",
       "      <td>0</td>\n",
       "      <td>0</td>\n",
       "      <td>0</td>\n",
       "      <td>18:23:43</td>\n",
       "      <td>18:44:45</td>\n",
       "    </tr>\n",
       "    <tr>\n",
       "      <th>2</th>\n",
       "      <td>Alena Stangl</td>\n",
       "      <td>36</td>\n",
       "      <td>36</td>\n",
       "      <td>3</td>\n",
       "      <td>39</td>\n",
       "      <td>0</td>\n",
       "      <td>0</td>\n",
       "      <td>10</td>\n",
       "      <td>8:34:33</td>\n",
       "      <td>13:03:39</td>\n",
       "    </tr>\n",
       "    <tr>\n",
       "      <th>3</th>\n",
       "      <td>Alleen Domina</td>\n",
       "      <td>52</td>\n",
       "      <td>52</td>\n",
       "      <td>4</td>\n",
       "      <td>56</td>\n",
       "      <td>0</td>\n",
       "      <td>0</td>\n",
       "      <td>0</td>\n",
       "      <td>11:29:06</td>\n",
       "      <td>18:01:10</td>\n",
       "    </tr>\n",
       "    <tr>\n",
       "      <th>4</th>\n",
       "      <td>Amie Grigsby</td>\n",
       "      <td>55</td>\n",
       "      <td>10</td>\n",
       "      <td>0</td>\n",
       "      <td>10</td>\n",
       "      <td>0</td>\n",
       "      <td>0</td>\n",
       "      <td>2</td>\n",
       "      <td>12:50:45</td>\n",
       "      <td>18:27:24</td>\n",
       "    </tr>\n",
       "  </tbody>\n",
       "</table>\n",
       "</div>"
      ],
      "text/plain": [
       "              driver  parcels delivered  orders delivered  orders failed  \\\n",
       "0  Adolph Nottingham                 77                71              0   \n",
       "1      Agnes Simmons                  4                 1              0   \n",
       "2       Alena Stangl                 36                36              3   \n",
       "3      Alleen Domina                 52                52              4   \n",
       "4       Amie Grigsby                 55                10              0   \n",
       "\n",
       "   orders attempted  orders to deliver  orders delayed  orders early  \\\n",
       "0                71                  0               0             0   \n",
       "1                 1                  0               0             0   \n",
       "2                39                  0               0            10   \n",
       "3                56                  0               0             0   \n",
       "4                10                  0               0             2   \n",
       "\n",
       "  start time end time (last delivery attempt)  \n",
       "0   11:21:58                         16:27:01  \n",
       "1   18:23:43                         18:44:45  \n",
       "2    8:34:33                         13:03:39  \n",
       "3   11:29:06                         18:01:10  \n",
       "4   12:50:45                         18:27:24  "
      ]
     },
     "execution_count": 2,
     "metadata": {},
     "output_type": "execute_result"
    }
   ],
   "source": [
    "file = 'drivers_summary.csv'\n",
    "\n",
    "df = pd.read_csv(file, sep=';')\n",
    "\n",
    "print(df.shape)\n",
    "df.head()"
   ]
  },
  {
   "cell_type": "code",
   "execution_count": 3,
   "metadata": {},
   "outputs": [],
   "source": [
    "#rename last col for easier manipulation\n",
    "df.rename(columns={'end time (last delivery attempt)':'end time lda'}, inplace=True)\n",
    "\n",
    "#update dtypes\n",
    "df[['start time', 'end time lda']] = df[['start time', 'end time lda']].astype('datetime64')"
   ]
  },
  {
   "cell_type": "code",
   "execution_count": 4,
   "metadata": {},
   "outputs": [
    {
     "data": {
      "text/plain": [
       "False"
      ]
     },
     "execution_count": 4,
     "metadata": {},
     "output_type": "execute_result"
    }
   ],
   "source": [
    "#check for duplicate records\n",
    "df.duplicated().any()"
   ]
  },
  {
   "cell_type": "code",
   "execution_count": 5,
   "metadata": {},
   "outputs": [
    {
     "data": {
      "text/plain": [
       "driver               False\n",
       "parcels delivered    False\n",
       "orders delivered     False\n",
       "orders failed        False\n",
       "orders attempted     False\n",
       "orders to deliver    False\n",
       "orders delayed       False\n",
       "orders early         False\n",
       "start time           False\n",
       "end time lda         False\n",
       "dtype: bool"
      ]
     },
     "execution_count": 5,
     "metadata": {},
     "output_type": "execute_result"
    }
   ],
   "source": [
    "#check for null values\n",
    "df.isnull().any()"
   ]
  },
  {
   "cell_type": "markdown",
   "metadata": {},
   "source": [
    "#### ANALYSIS"
   ]
  },
  {
   "cell_type": "markdown",
   "metadata": {},
   "source": [
    "**Definitions & Assumptions:**<br>\n",
    "- Orders to deliver are outstanding orders that have yet to be attempted\n",
    "- Orders delayed are orders that were delivered but outside of the scheduled timewindow\n",
    "\n",
    "- Total Orders is the sum of attempted orders and orders to deliver<br>\n",
    "- Total Late is the sum of orders failed + orders to deliver + orders delayed"
   ]
  },
  {
   "cell_type": "code",
   "execution_count": 6,
   "metadata": {},
   "outputs": [],
   "source": [
    "#Create total orders column. Total Orders = Orders attempted + Orders to Deliver (still open)\n",
    "df['total orders'] = df.iloc[:, 4:6].sum(axis=1)\n",
    "\n",
    "#Total orders not received on time\n",
    "df['total late'] = df[['orders failed', 'orders to deliver', 'orders delayed']].sum(axis=1)"
   ]
  },
  {
   "cell_type": "code",
   "execution_count": 7,
   "metadata": {},
   "outputs": [
    {
     "data": {
      "text/plain": [
       "parcels delivered    4172\n",
       "orders delivered     3342\n",
       "orders failed         294\n",
       "orders attempted     3636\n",
       "orders to deliver      24\n",
       "orders delayed         33\n",
       "orders early          202\n",
       "total orders         3660\n",
       "total late            351\n",
       "dtype: int64"
      ]
     },
     "execution_count": 7,
     "metadata": {},
     "output_type": "execute_result"
    }
   ],
   "source": [
    "#return series of all fields aggregated for the day\n",
    "df_agg = df.sum(numeric_only=True)\n",
    "\n",
    "df_agg"
   ]
  },
  {
   "cell_type": "markdown",
   "metadata": {},
   "source": [
    "#### 1. Order Completion Rate "
   ]
  },
  {
   "cell_type": "code",
   "execution_count": 8,
   "metadata": {},
   "outputs": [
    {
     "name": "stdout",
     "output_type": "stream",
     "text": [
      "91.31% of orders were completed meaning 8.69% of orders were not.\n"
     ]
    }
   ],
   "source": [
    "pct_comp = df['orders delivered'].sum() / df['total orders'].sum()\n",
    "\n",
    "print(f'{pct_comp:.2%} of orders were completed meaning {1-pct_comp:.2%} of orders were not.')"
   ]
  },
  {
   "cell_type": "markdown",
   "metadata": {},
   "source": [
    "#### 2. On-Time Delivery Adherence\n",
    "Some orders delivered could have been delayed & others might have failed or yet to be delivered (still open order). These all classify as late deliveries."
   ]
  },
  {
   "cell_type": "code",
   "execution_count": 9,
   "metadata": {},
   "outputs": [],
   "source": [
    "# (df_agg['orders attempted'] - df_agg[['orders failed', 'orders delayed']].sum()) / df_agg['orders attempted']"
   ]
  },
  {
   "cell_type": "code",
   "execution_count": 10,
   "metadata": {},
   "outputs": [
    {
     "name": "stdout",
     "output_type": "stream",
     "text": [
      "90.41% of orders were delivered on time, meaning 351 out of 3660 of all orders were delayed for some reason.\n"
     ]
    }
   ],
   "source": [
    "pct_ontime = (df_agg['total orders'] - df_agg[['orders failed', 'orders delayed', 'orders to deliver']].sum()) / df_agg['total orders']\n",
    "\n",
    "print('{:.2%} of orders were delivered on time, meaning {} out of {} of all orders were delayed for some reason.'.format(pct_ontime, df_agg['total late'], df_agg['total orders'] ) )\n",
    "# print(round((1-pct_ontime), 4))"
   ]
  },
  {
   "cell_type": "code",
   "execution_count": 84,
   "metadata": {},
   "outputs": [
    {
     "name": "stdout",
     "output_type": "stream",
     "text": [
      "orders failed : 83.76068376068376\n",
      "294 total\n",
      "orders delayed : 9.401709401709402\n",
      "33 total\n",
      "orders to deliver : 6.837606837606837\n",
      "24 total\n"
     ]
    }
   ],
   "source": [
    "#Delivery adherence by each late category\n",
    "for i, v in df_agg[['orders failed', 'orders delayed', 'orders to deliver']].items():\n",
    "    print(i, ':', v*100 / df_agg['total late'])\n",
    "    print(str(v) + ' total')"
   ]
  },
  {
   "cell_type": "markdown",
   "metadata": {},
   "source": [
    "#### 3. Driver On-Time Efficiency"
   ]
  },
  {
   "cell_type": "code",
   "execution_count": 12,
   "metadata": {},
   "outputs": [],
   "source": [
    "#Create dummy bool, 1 if delayed 0 if not\n",
    "df['delay'] = np.where(df['total late'] >= 1, 1, 0)"
   ]
  },
  {
   "cell_type": "code",
   "execution_count": 13,
   "metadata": {},
   "outputs": [
    {
     "name": "stdout",
     "output_type": "stream",
     "text": [
      "Percent of drivers with at least one late order today was 56.0% \n"
     ]
    }
   ],
   "source": [
    "#Count number of instances in each delay category\n",
    "drive_time = df['delay'].value_counts(normalize=True)\n",
    "\n",
    "print(f'Percent of drivers with at least one late order today was {drive_time[1]:.1%} ')"
   ]
  },
  {
   "cell_type": "code",
   "execution_count": 14,
   "metadata": {},
   "outputs": [
    {
     "data": {
      "text/plain": [
       "56"
      ]
     },
     "execution_count": 14,
     "metadata": {},
     "output_type": "execute_result"
    }
   ],
   "source": [
    "#Total num of couriers delayed\n",
    "df['delay'].sum()"
   ]
  },
  {
   "cell_type": "markdown",
   "metadata": {},
   "source": [
    "Quick investigation of distribution among 10 less efficient drivers"
   ]
  },
  {
   "cell_type": "code",
   "execution_count": 15,
   "metadata": {},
   "outputs": [
    {
     "data": {
      "text/plain": [
       "<matplotlib.axes._subplots.AxesSubplot at 0x1bd38903908>"
      ]
     },
     "execution_count": 15,
     "metadata": {},
     "output_type": "execute_result"
    },
    {
     "data": {
      "image/png": "[encoded data removed]",
      "text/plain": [
       "<Figure size 1440x432 with 1 Axes>"
      ]
     },
     "metadata": {
      "needs_background": "light"
     },
     "output_type": "display_data"
    }
   ],
   "source": [
    "#Group by delayed category\n",
    "delay_grp = df.groupby('delay').get_group(1)\n",
    "\n",
    "#return new df of total late orders by driver\n",
    "late_drivers = delay_grp[['driver', 'total late']].sort_values('total late', ascending=False)\n",
    "\n",
    "#quick view of distribution of drivers\n",
    "late_drivers.plot(kind='bar', figsize=(20,6))"
   ]
  },
  {
   "cell_type": "code",
   "execution_count": 16,
   "metadata": {},
   "outputs": [
    {
     "data": {
      "text/plain": [
       "195"
      ]
     },
     "execution_count": 16,
     "metadata": {},
     "output_type": "execute_result"
    }
   ],
   "source": [
    "late_drivers['total late'].head(10).sum()"
   ]
  },
  {
   "cell_type": "markdown",
   "metadata": {},
   "source": [
    "#### 4. Average Productivity"
   ]
  },
  {
   "cell_type": "code",
   "execution_count": 72,
   "metadata": {},
   "outputs": [],
   "source": [
    "#total hours in minutes per driver\n",
    "df['hours'] = (df['end time lda'] - df['start time']).dt.total_seconds() / 3600\n",
    "\n",
    "#orders attempted per hour per driver\n",
    "df['productivity'] = df['orders attempted'] / df['hours']"
   ]
  },
  {
   "cell_type": "code",
   "execution_count": 73,
   "metadata": {},
   "outputs": [
    {
     "data": {
      "text/plain": [
       "7.768326059448916"
      ]
     },
     "execution_count": 73,
     "metadata": {},
     "output_type": "execute_result"
    }
   ],
   "source": [
    "#Calculate average orders attempted per hour\n",
    "np.average(df['productivity'])"
   ]
  },
  {
   "cell_type": "code",
   "execution_count": 83,
   "metadata": {},
   "outputs": [
    {
     "data": {
      "text/plain": [
       "2.209191622499615"
      ]
     },
     "execution_count": 83,
     "metadata": {},
     "output_type": "execute_result"
    }
   ],
   "source": [
    "#Average number of parcels per delivery\n",
    "np.average(df['parcels delivered'] / df['orders delivered'])"
   ]
  },
  {
   "cell_type": "code",
   "execution_count": null,
   "metadata": {},
   "outputs": [],
   "source": []
  }
 ],
 "metadata": {
  "kernelspec": {
   "display_name": "Python 3",
   "language": "python",
   "name": "python3"
  },
  "language_info": {
   "codemirror_mode": {
    "name": "ipython",
    "version": 3
   },
   "file_extension": ".py",
   "mimetype": "text/x-python",
   "name": "python",
   "nbconvert_exporter": "python",
   "pygments_lexer": "ipython3",
   "version": "3.7.6"
  }
 },
 "nbformat": 4,
 "nbformat_minor": 4
}
